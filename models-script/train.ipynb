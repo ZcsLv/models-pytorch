{
 "cells": [
  {
   "cell_type": "code",
   "execution_count": 1,
   "metadata": {},
   "outputs": [
    {
     "name": "stderr",
     "output_type": "stream",
     "text": [
      "/root/anaconda3/envs/models/lib/python3.6/site-packages/tqdm/auto.py:22: TqdmWarning: IProgress not found. Please update jupyter and ipywidgets. See https://ipywidgets.readthedocs.io/en/stable/user_install.html\n",
      "  from .autonotebook import tqdm as notebook_tqdm\n"
     ]
    }
   ],
   "source": [
    "import torch\n",
    "import torch.nn as nn\n",
    "import logging\n",
    "import time\n",
    "import torch.nn.functional as F"
   ]
  },
  {
   "cell_type": "code",
   "execution_count": null,
   "metadata": {},
   "outputs": [],
   "source": [
    "def train(train_iter,dev_iter,test_iter,args,model):\n",
    "    start_time = time.time()\n",
    "    steps=0\n",
    "    logging.info(\"Training start time:\",start_time)\n",
    "    # 模型、数据放到gpu上。\n",
    "    # 方法1）：.cuda()   方法2）：.to(device) device是指定好的\n",
    "    model.cuda()\n",
    "    # 指定模型的  方式\n",
    "    model.train()\n",
    "    # step 1:定义优化器\n",
    "    optimizer=torch.optim.Adam(model.parameters(),lr=args.learning_rate)\n",
    "    # step 2:\n",
    "    for epoch in range(args.epoches):\n",
    "        logging.info(\"\\n## The {} Epoch, All {} Epochs ! ##\".format(epoch, args.epochs))\n",
    "        # step 3: 读取batch个数据\n",
    "        for batch in train_iter:\n",
    "            # 1) 准备数据\n",
    "            text,label=batch.text,batch.label\n",
    "            text,label=text.cuda(),label.cuda()\n",
    "            # 2) 定义损失函数\n",
    "            lossf=nn.CrossEntropyLoss()\n",
    "            # 3）梯度归零\n",
    "            optimizer.zero_grad()\n",
    "            # 4) \n",
    "            logit=model(text)\n",
    "            # 5) 计算loss\n",
    "            loss=lossf(logit,label)\n",
    "            # 6) \n",
    "            loss.backward()\n",
    "            optimizer.step()\n",
    "            steps+=1\n",
    "            if steps % args.log_intervel==0:\n",
    "                train_size = len(train_iter.dataset)\n",
    "                corrects = (torch.max(logit, 1)[1].view(label.size()).data == label.data).sum()\n",
    "                accuracy = float(corrects)/batch.batch_size * 100.0\n",
    "                #是用loss 还是用loss.item?\n",
    "                logging.info(\"\\n## train_loss {} , train_acc {} ##\".format(loss.item(), accuracy))\n",
    "            if steps % args.eval_interval==0:\n",
    "                avg_loss,accuracy=eval(args,model,dev_iter)\n",
    "                logging.info(\"\\n## dev_loss {} , dev_acc {} ##\".format(avg_loss, accuracy))\n",
    "              "
   ]
  },
  {
   "cell_type": "code",
   "execution_count": null,
   "metadata": {},
   "outputs": [],
   "source": [
    "def eval(args,model,eval_iter):\n",
    "    model.eval()\n",
    "    loss_avg,corrects=0,0\n",
    "    size=len(eval_iter)\n",
    "    for batch in eval_iter:\n",
    "        feature, target = batch.text, batch.label\n",
    "        feature.data.t_(), target.data.sub_(1)  # batch first, index align\n",
    "        logit=model(feature)\n",
    "\n",
    "        loss=F.cross_entropy(logit,target)\n",
    "        loss_avg+=loss\n",
    "        corrects=(torch.max(logit, 1)[1].view(target.size()).data == target.data).sum()\n",
    "    size = len(eval_iter.dataset)\n",
    "    avg_loss = loss.item()/size\n",
    "    accuracy = 100.0 * float(corrects)/size\n",
    "    return avg_loss,accuracy"
   ]
  },
  {
   "cell_type": "code",
   "execution_count": null,
   "metadata": {},
   "outputs": [],
   "source": [
    "def test(args,model,test_iter):\n",
    "    model.load_state_dict(torch.load(args.save_path))\n",
    "    model.eval()\n",
    "    # start_time = time.time()\n",
    "    test_loss, test_acc= eval(args, model, test_iter)\n",
    "    return test_loss,test_acc"
   ]
  }
 ],
 "metadata": {
  "kernelspec": {
   "display_name": "Python 3.6.13 ('models')",
   "language": "python",
   "name": "python3"
  },
  "language_info": {
   "codemirror_mode": {
    "name": "ipython",
    "version": 3
   },
   "file_extension": ".py",
   "mimetype": "text/x-python",
   "name": "python",
   "nbconvert_exporter": "python",
   "pygments_lexer": "ipython3",
   "version": "3.6.13"
  },
  "orig_nbformat": 4,
  "vscode": {
   "interpreter": {
    "hash": "b109b4c8678325b4a501b51adb3048a45c353f35475e14cb1c1d6c8714fba358"
   }
  }
 },
 "nbformat": 4,
 "nbformat_minor": 2
}
